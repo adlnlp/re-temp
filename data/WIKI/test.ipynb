{
 "cells": [
  {
   "cell_type": "code",
   "execution_count": 2,
   "metadata": {},
   "outputs": [],
   "source": [
    "ent_id_name = {}\n",
    "with open('entity2id.txt') as f:\n",
    "    for line in f.readlines():\n",
    "        line = line.strip()\n",
    "        ent_id_name[line.split()[1]] = line.split()[0]"
   ]
  },
  {
   "cell_type": "code",
   "execution_count": 6,
   "metadata": {},
   "outputs": [],
   "source": [
    "rr = {}\n",
    "with open('wikirel.txt') as f:\n",
    "    for line in f.readlines():\n",
    "        line = line.strip()\n",
    "        rr[line.split('\\t')[0]] = line.split('\\t')[1]"
   ]
  },
  {
   "cell_type": "code",
   "execution_count": 4,
   "metadata": {},
   "outputs": [],
   "source": [
    "relation_id_name = {}\n",
    "with open('relation2id.txt') as f:\n",
    "    for line in f.readlines():\n",
    "        line = line.strip()\n",
    "        relation_id_name[line.split()[1]] = line.split()[0]"
   ]
  },
  {
   "cell_type": "code",
   "execution_count": 17,
   "metadata": {},
   "outputs": [],
   "source": [
    "quadruplets = []\n",
    "with open('train.txt') as f:\n",
    "    for line in f.readlines():\n",
    "        line = line.strip()\n",
    "        s,r,t,tao,_ = line.split()\n",
    "        quadruplets.append([ent_id_name[s],ent_id_name[t],tao,rr[relation_id_name[r]]])"
   ]
  },
  {
   "cell_type": "code",
   "execution_count": 18,
   "metadata": {},
   "outputs": [],
   "source": [
    "with open('valid.txt') as f:\n",
    "    for line in f.readlines():\n",
    "        line = line.strip()\n",
    "        s,r,t,tao,_ = line.split()\n",
    "        quadruplets.append([ent_id_name[s],ent_id_name[t],tao,rr[relation_id_name[r]]])"
   ]
  },
  {
   "cell_type": "code",
   "execution_count": 19,
   "metadata": {},
   "outputs": [],
   "source": [
    "with open('test.txt') as f:\n",
    "    for line in f.readlines():\n",
    "        line = line.strip()\n",
    "        s,r,t,tao,_ = line.split()\n",
    "        quadruplets.append([ent_id_name[s],ent_id_name[t],tao,rr[relation_id_name[r]]])"
   ]
  },
  {
   "cell_type": "code",
   "execution_count": 25,
   "metadata": {},
   "outputs": [],
   "source": [
    "with open('data.txt','w') as f:\n",
    "    for line in quadruplets:\n",
    "        f.write(\"   \\t\".join(line)+\"\\n\")\n",
    "\n"
   ]
  },
  {
   "cell_type": "code",
   "execution_count": null,
   "metadata": {},
   "outputs": [],
   "source": [
    "and (q[-2] == '217' or q[-2] == '218')"
   ]
  },
  {
   "cell_type": "code",
   "execution_count": 34,
   "metadata": {},
   "outputs": [
    {
     "name": "stdout",
     "output_type": "stream",
     "text": [
      "['Q10520', 'Q18656', '206', 'member of sports team']\n",
      "['Q10520', 'Q1049171', '206', 'member of sports team']\n",
      "['Q10520', 'Q18656', '207', 'member of sports team']\n",
      "['Q10520', 'Q19612', '207', 'member of sports team']\n",
      "['Q10520', 'Q1049171', '207', 'member of sports team']\n",
      "['Q10520', 'Q19612', '208', 'member of sports team']\n",
      "['Q10520', 'Q18656', '208', 'member of sports team']\n",
      "['Q10520', 'Q204238', '208', 'member of sports team']\n",
      "['Q10520', 'Q19612', '208', 'member of sports team']\n",
      "['Q10520', 'Q19612', '209', 'member of sports team']\n",
      "['Q10520', 'Q19612', '209', 'member of sports team']\n",
      "['Q10520', 'Q18656', '209', 'member of sports team']\n",
      "['Q10520', 'Q204238', '209', 'member of sports team']\n",
      "['Q10520', 'Q18656', '210', 'member of sports team']\n",
      "['Q10520', 'Q204238', '210', 'member of sports team']\n",
      "['Q10520', 'Q47762', '210', 'member of sports team']\n",
      "['Q10520', 'Q890790', '210', 'award received']\n",
      "['Q10520', 'Q2009646', '211', 'award received']\n",
      "['Q10520', 'Q18656', '211', 'member of sports team']\n",
      "['Q10520', 'Q2044044', '211', 'award received']\n",
      "['Q10520', 'Q47762', '211', 'member of sports team']\n",
      "['Q10520', 'Q2986505', '211', 'award received']\n",
      "['Q10520', 'Q18656', '212', 'member of sports team']\n",
      "['Q10520', 'Q47762', '212', 'member of sports team']\n",
      "['Q10520', 'Q2044044', '212', 'award received']\n",
      "['Q10520', 'Q18656', '213', 'member of sports team']\n",
      "['Q10520', 'Q2267946', '213', 'nominated for']\n",
      "['Q10520', 'Q47762', '213', 'member of sports team']\n",
      "['Q10520', 'Q1187699', '213', 'award received']\n",
      "['Q10520', 'Q2044044', '213', 'award received']\n",
      "['Q10520', 'Q182529', '213', 'nominated for']\n",
      "['Q10520', 'Q18656', '214', 'member of sports team']\n",
      "['Q10520', 'Q2044044', '214', 'award received']\n",
      "['Q10520', 'Q47762', '214', 'member of sports team']\n",
      "['Q10520', 'Q18656', '215', 'member of sports team']\n",
      "['Q10520', 'Q2267946', '215', 'award received']\n",
      "['Q10520', 'Q182529', '215', 'nominated for']\n",
      "['Q10520', 'Q1146578', '215', 'award received']\n",
      "['Q10520', 'Q47762', '215', 'member of sports team']\n",
      "['Q10520', 'Q2267946', '215', 'nominated for']\n",
      "['Q10520', 'Q2267946', '216', 'nominated for']\n",
      "['Q10520', 'Q18656', '216', 'member of sports team']\n",
      "['Q10520', 'Q1146578', '216', 'award received']\n",
      "['Q10520', 'Q47762', '216', 'member of sports team']\n",
      "['Q10520', 'Q18656', '217', 'member of sports team']\n",
      "['Q10520', 'Q4896730', '217', 'nominated for']\n",
      "['Q10520', 'Q10762848', '217', 'award received']\n",
      "['Q10520', 'Q47762', '217', 'member of sports team']\n",
      "['Q10520', 'Q8682', '217', 'member of sports team']\n",
      "['Q10520', 'Q1146578', '217', 'award received']\n",
      "['Q10520', 'Q4896730', '218', 'nominated for']\n",
      "['Q10520', 'Q4896730', '218', 'award received']\n",
      "['Q10520', 'Q47762', '218', 'member of sports team']\n",
      "['Q10520', 'Q8682', '218', 'member of sports team']\n",
      "['Q10520', 'Q47762', '219', 'member of sports team']\n",
      "['Q10520', 'Q8682', '219', 'member of sports team']\n",
      "['Q10520', 'Q47762', '220', 'member of sports team']\n",
      "['Q10520', 'Q8682', '220', 'member of sports team']\n",
      "['Q10520', 'Q47762', '221', 'member of sports team']\n",
      "['Q10520', 'Q204357', '221', 'member of sports team']\n",
      "['Q10520', 'Q8682', '221', 'member of sports team']\n",
      "['Q10520', 'Q4896721', '222', 'award received']\n",
      "['Q10520', 'Q47762', '222', 'member of sports team']\n",
      "['Q10520', 'Q204357', '222', 'member of sports team']\n",
      "['Q10520', 'Q4896721', '222', 'nominated for']\n",
      "['Q10520', 'Q47762', '223', 'member of sports team']\n",
      "['Q10520', 'Q204357', '223', 'member of sports team']\n",
      "['Q10520', 'Q1543', '223', 'member of sports team']\n",
      "['Q10520', 'Q204357', '224', 'member of sports team']\n",
      "['Q10520', 'Q1543', '224', 'member of sports team']\n",
      "['Q10520', 'Q204357', '225', 'member of sports team']\n",
      "['Q10520', 'Q204357', '226', 'member of sports team']\n",
      "['Q10520', 'Q4896721', '226', 'nominated for']\n",
      "['Q10520', 'Q4896721', '226', 'award received']\n",
      "['Q10520', 'Q483020', '227', 'member of sports team']\n"
     ]
    }
   ],
   "source": [
    "for q in quadruplets:\n",
    "    if q[0] == 'Q10520' :\n",
    "        print(q)"
   ]
  }
 ],
 "metadata": {
  "kernelspec": {
   "display_name": "base",
   "language": "python",
   "name": "python3"
  },
  "language_info": {
   "codemirror_mode": {
    "name": "ipython",
    "version": 3
   },
   "file_extension": ".py",
   "mimetype": "text/x-python",
   "name": "python",
   "nbconvert_exporter": "python",
   "pygments_lexer": "ipython3",
   "version": "3.9.12"
  },
  "orig_nbformat": 4,
  "vscode": {
   "interpreter": {
    "hash": "e55ade31e32930e4d016ff9125c318018c43e02d66f674c035ff6720cf60ec23"
   }
  }
 },
 "nbformat": 4,
 "nbformat_minor": 2
}
