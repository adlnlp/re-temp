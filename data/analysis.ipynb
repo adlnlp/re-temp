{
 "cells": [
  {
   "cell_type": "code",
   "execution_count": 74,
   "metadata": {},
   "outputs": [],
   "source": [
    "dataset = 'ICEWS14'"
   ]
  },
  {
   "cell_type": "code",
   "execution_count": 75,
   "metadata": {},
   "outputs": [],
   "source": [
    "from collections import defaultdict\n",
    "quadruplets = defaultdict(set)\n",
    "\n",
    "tao0 = -1\n",
    "tao1 = -1\n",
    "\n",
    "with open(dataset+\"/train.txt\") as f:\n",
    "    for line in f.readlines():\n",
    "        line = line.rstrip()\n",
    "        if len(line.split()) == 4:\n",
    "            s,r,o,tao = line.split()\n",
    "        else:\n",
    "            s,r,o,tao,_ = line.split()\n",
    "        if tao0 == -1:\n",
    "            tao0 = int(tao)\n",
    "        elif tao1 == -1 and int(tao) != tao0:\n",
    "            tao1 = int(tao)\n",
    "        quadruplets[int(tao)].add((s,r,o))\n",
    "\n",
    "with open(dataset+\"/valid.txt\") as f:\n",
    "    for line in f.readlines():\n",
    "        line = line.rstrip()\n",
    "        if len(line.split()) == 4:\n",
    "            s,r,o,tao = line.split()\n",
    "        else:\n",
    "            s,r,o,tao,_ = line.split()\n",
    "        quadruplets[int(tao)].add((s,r,o))\n",
    "\n",
    "\n",
    "start = float('inf')\n",
    "end = -1\n",
    "with open(dataset+\"/test.txt\") as f:\n",
    "    for line in f.readlines():\n",
    "        line = line.rstrip()\n",
    "        if len(line.split()) == 4:\n",
    "            s,r,o,tao = line.split()\n",
    "        else:\n",
    "            s,r,o,tao,_ = line.split()\n",
    "        start = min(start, int(tao))\n",
    "        end = max(end, int(tao))\n",
    "        quadruplets[int(tao)].add((s,r,o))\n",
    "\n",
    "interval = tao1 - tao0"
   ]
  },
  {
   "cell_type": "code",
   "execution_count": 76,
   "metadata": {},
   "outputs": [
    {
     "name": "stdout",
     "output_type": "stream",
     "text": [
      "776 7371 0.10527743861077195\n"
     ]
    }
   ],
   "source": [
    "total, cnt = 0,0\n",
    "for i in range(start, end+interval):\n",
    "    for tri in quadruplets[i]:\n",
    "        total += 1\n",
    "        if tri in quadruplets[i-interval]:\n",
    "            cnt += 1\n",
    "print(cnt, total, cnt/total)"
   ]
  }
 ],
 "metadata": {
  "kernelspec": {
   "display_name": "base",
   "language": "python",
   "name": "python3"
  },
  "language_info": {
   "codemirror_mode": {
    "name": "ipython",
    "version": 3
   },
   "file_extension": ".py",
   "mimetype": "text/x-python",
   "name": "python",
   "nbconvert_exporter": "python",
   "pygments_lexer": "ipython3",
   "version": "3.9.12"
  },
  "orig_nbformat": 4,
  "vscode": {
   "interpreter": {
    "hash": "e55ade31e32930e4d016ff9125c318018c43e02d66f674c035ff6720cf60ec23"
   }
  }
 },
 "nbformat": 4,
 "nbformat_minor": 2
}
